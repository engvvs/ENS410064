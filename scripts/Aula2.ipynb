{
 "cells": [
  {
   "cell_type": "markdown",
   "id": "6bd832ab-4fa1-445f-b3b6-a8dac89adb57",
   "metadata": {},
   "source": [
    "# Aula 02"
   ]
  },
  {
   "cell_type": "markdown",
   "id": "24d5843c-0db7-498c-9fb7-928976b49868",
   "metadata": {},
   "source": [
    "## Dados Numericos "
   ]
  },
  {
   "cell_type": "code",
   "execution_count": 7,
   "id": "7398ecfd-ff9e-4c00-bef8-ac0d4acd3fa9",
   "metadata": {},
   "outputs": [
    {
     "name": "stdout",
     "output_type": "stream",
     "text": [
      "Valor de a =1\n"
     ]
    },
    {
     "data": {
      "text/plain": [
       "int"
      ]
     },
     "execution_count": 7,
     "metadata": {},
     "output_type": "execute_result"
    }
   ],
   "source": [
    "# Variável Inteira\n",
    "\n",
    "a = 1\n",
    "\n",
    "print(\"Valor de a =\"+str(a))\n",
    "\n",
    "type(a)"
   ]
  },
  {
   "cell_type": "code",
   "execution_count": 8,
   "id": "ca675539-fcdd-4d9d-b5a3-fa19684cbc7b",
   "metadata": {},
   "outputs": [
    {
     "name": "stdout",
     "output_type": "stream",
     "text": [
      "1.0\n"
     ]
    },
    {
     "data": {
      "text/plain": [
       "float"
      ]
     },
     "execution_count": 8,
     "metadata": {},
     "output_type": "execute_result"
    }
   ],
   "source": [
    "# Variável dupla precisão\n",
    "\n",
    "b = 1.0\n",
    "print(b)\n",
    "type(b)"
   ]
  },
  {
   "cell_type": "code",
   "execution_count": 9,
   "id": "5099c5d0-0fdd-4065-ba1a-1dac7ee1249b",
   "metadata": {},
   "outputs": [
    {
     "name": "stdout",
     "output_type": "stream",
     "text": [
      "1\n"
     ]
    },
    {
     "data": {
      "text/plain": [
       "int"
      ]
     },
     "execution_count": 9,
     "metadata": {},
     "output_type": "execute_result"
    }
   ],
   "source": [
    "# Converter float para int \n",
    "\n",
    "c = int(b)\n",
    "print(c)\n",
    "type(c)\n"
   ]
  },
  {
   "cell_type": "code",
   "execution_count": 10,
   "id": "4a1d44aa-b732-4ebf-8a7b-d48b32348c61",
   "metadata": {},
   "outputs": [
    {
     "name": "stdout",
     "output_type": "stream",
     "text": [
      "nan\n"
     ]
    },
    {
     "data": {
      "text/plain": [
       "float"
      ]
     },
     "execution_count": 10,
     "metadata": {},
     "output_type": "execute_result"
    }
   ],
   "source": [
    "# Declarando nan\n",
    "import numpy as np\n",
    "d = np.nan\n",
    "print(d)\n",
    "type(d)\n"
   ]
  },
  {
   "cell_type": "code",
   "execution_count": 13,
   "id": "06cc6604-5213-424e-a61a-3199fe3dbe14",
   "metadata": {},
   "outputs": [
    {
     "name": "stdout",
     "output_type": "stream",
     "text": [
      "nan\n",
      "nan\n",
      "0.0\n"
     ]
    }
   ],
   "source": [
    "# Operação com NaNe \n",
    "\n",
    "e = d*1\n",
    "print(e)\n",
    "e = d+1\n",
    "print(e)\n",
    "e = np.nansum([d,e])\n",
    "print(e)\n"
   ]
  },
  {
   "cell_type": "markdown",
   "id": "6653d8af-e9cb-4892-bdd0-fe1356b9032d",
   "metadata": {},
   "source": [
    "## Dados de texto "
   ]
  },
  {
   "cell_type": "code",
   "execution_count": 20,
   "id": "f95d1040-380b-4139-8770-08e62ba34577",
   "metadata": {},
   "outputs": [
    {
     "name": "stdout",
     "output_type": "stream",
     "text": [
      "Fabio\n",
      "gabriel\n",
      "Fabiogabriel\n",
      "Fabio gabriel\n"
     ]
    }
   ],
   "source": [
    "# Declaração de variável texto\n",
    "f = \"Fabio\"\n",
    "g = \"gabriel\"\n",
    "print(f)\n",
    "print(g)\n",
    "print(f+g)\n",
    "print(f+\" \"+g)\n"
   ]
  },
  {
   "cell_type": "markdown",
   "id": "ec347fe3-5f6e-478e-b68d-073955c8355c",
   "metadata": {},
   "source": [
    "## Dados tipo Bool - lógica "
   ]
  },
  {
   "cell_type": "code",
   "execution_count": 21,
   "id": "088df0c5-ef03-4a1c-b020-0e8aad528f1c",
   "metadata": {},
   "outputs": [
    {
     "data": {
      "text/plain": [
       "True"
      ]
     },
     "execution_count": 21,
     "metadata": {},
     "output_type": "execute_result"
    }
   ],
   "source": [
    "a == 1"
   ]
  },
  {
   "cell_type": "code",
   "execution_count": 23,
   "id": "695862f7-aab2-475c-abec-ac8b9adbe07e",
   "metadata": {},
   "outputs": [
    {
     "name": "stdout",
     "output_type": "stream",
     "text": [
      "True\n"
     ]
    },
    {
     "data": {
      "text/plain": [
       "bool"
      ]
     },
     "execution_count": 23,
     "metadata": {},
     "output_type": "execute_result"
    }
   ],
   "source": [
    "h = (a==1)\n",
    "print(h)\n",
    "type(h)"
   ]
  },
  {
   "cell_type": "code",
   "execution_count": 26,
   "id": "6cb6dcce-5f7d-405d-9eea-b21793c57604",
   "metadata": {},
   "outputs": [
    {
     "data": {
      "text/plain": [
       "bool"
      ]
     },
     "execution_count": 26,
     "metadata": {},
     "output_type": "execute_result"
    }
   ],
   "source": [
    "i = True\n",
    "type(i)\n"
   ]
  },
  {
   "cell_type": "code",
   "execution_count": 27,
   "id": "04493724-10bc-4312-84ff-f32791caa5e8",
   "metadata": {},
   "outputs": [
    {
     "data": {
      "text/plain": [
       "str"
      ]
     },
     "execution_count": 27,
     "metadata": {},
     "output_type": "execute_result"
    }
   ],
   "source": [
    "ii = \"True\"\n",
    "type(ii)"
   ]
  },
  {
   "cell_type": "markdown",
   "id": "e24e5727-7a0b-4c70-b48b-0ee7ebef1806",
   "metadata": {},
   "source": [
    "# Operação de Comparação \n",
    "\n"
   ]
  },
  {
   "cell_type": "code",
   "execution_count": 28,
   "id": "46cf7ed1-a8c1-4eab-9c17-8d9b17360b24",
   "metadata": {},
   "outputs": [
    {
     "data": {
      "text/plain": [
       "True"
      ]
     },
     "execution_count": 28,
     "metadata": {},
     "output_type": "execute_result"
    }
   ],
   "source": [
    "# Operacao com ==\n",
    "a==b"
   ]
  },
  {
   "cell_type": "code",
   "execution_count": 29,
   "id": "d8c887d4-007a-403c-819f-0206a0e8f4c3",
   "metadata": {},
   "outputs": [
    {
     "data": {
      "text/plain": [
       "False"
      ]
     },
     "execution_count": 29,
     "metadata": {},
     "output_type": "execute_result"
    }
   ],
   "source": [
    "# Operacao com >\n",
    "a>b"
   ]
  },
  {
   "cell_type": "code",
   "execution_count": 30,
   "id": "d7645e91-d59a-47d9-9a45-d7c4fb312fe6",
   "metadata": {},
   "outputs": [],
   "source": [
    "# Operação com != (diferente)"
   ]
  },
  {
   "cell_type": "code",
   "execution_count": 31,
   "id": "731cc2cf-6ed4-4ab8-b8ee-642700c0303b",
   "metadata": {},
   "outputs": [
    {
     "data": {
      "text/plain": [
       "False"
      ]
     },
     "execution_count": 31,
     "metadata": {},
     "output_type": "execute_result"
    }
   ],
   "source": [
    "a!=b"
   ]
  },
  {
   "cell_type": "code",
   "execution_count": 32,
   "id": "582522a9-744a-46c8-8142-c2040e5f5f41",
   "metadata": {},
   "outputs": [],
   "source": [
    "# Operação com >="
   ]
  },
  {
   "cell_type": "code",
   "execution_count": 33,
   "id": "cae71770-3de9-4941-8a01-10af538bd18e",
   "metadata": {},
   "outputs": [
    {
     "data": {
      "text/plain": [
       "True"
      ]
     },
     "execution_count": 33,
     "metadata": {},
     "output_type": "execute_result"
    }
   ],
   "source": [
    "a>=b"
   ]
  },
  {
   "cell_type": "markdown",
   "id": "6efe6662-5bcf-4661-8fce-39731ab5c6ef",
   "metadata": {},
   "source": [
    "# OPerações Matematicas "
   ]
  },
  {
   "cell_type": "code",
   "execution_count": 36,
   "id": "cd187d94-de8a-49e9-9cc0-3ac7fd7c602d",
   "metadata": {},
   "outputs": [
    {
     "data": {
      "text/plain": [
       "2.0"
      ]
     },
     "execution_count": 36,
     "metadata": {},
     "output_type": "execute_result"
    }
   ],
   "source": [
    "# soma\n",
    "a+b"
   ]
  },
  {
   "cell_type": "code",
   "execution_count": 38,
   "id": "b9a56bd3-5104-496d-aefd-0f4f460f072f",
   "metadata": {},
   "outputs": [
    {
     "name": "stdout",
     "output_type": "stream",
     "text": [
      "2.0\n"
     ]
    }
   ],
   "source": [
    "# seoma e atribui\n",
    "\n",
    "ab = a+b\n",
    "print(a+b)"
   ]
  },
  {
   "cell_type": "code",
   "execution_count": 41,
   "id": "89bb3f6e-bb88-462e-a948-b33dc91a8062",
   "metadata": {},
   "outputs": [
    {
     "name": "stdout",
     "output_type": "stream",
     "text": [
      "não use l como variável\n",
      "1.0\n"
     ]
    }
   ],
   "source": [
    "# Multiplicação\n",
    "print(\"não use l como variável\")\n",
    "j = a*b\n",
    "print(j)"
   ]
  },
  {
   "cell_type": "code",
   "execution_count": 43,
   "id": "19156f6e-af54-43c7-bf4a-bb2e52b61852",
   "metadata": {},
   "outputs": [
    {
     "data": {
      "text/plain": [
       "25"
      ]
     },
     "execution_count": 43,
     "metadata": {},
     "output_type": "execute_result"
    }
   ],
   "source": [
    "# Potencia \n",
    "\n",
    "5**2"
   ]
  },
  {
   "cell_type": "code",
   "execution_count": 45,
   "id": "735a795f-534b-4609-8274-d83359cf9f6f",
   "metadata": {},
   "outputs": [
    {
     "data": {
      "text/plain": [
       "22026.465794806718"
      ]
     },
     "execution_count": 45,
     "metadata": {},
     "output_type": "execute_result"
    }
   ],
   "source": [
    "# Operações matemáticas com a biblioteca math\n",
    "import math\n",
    "\n",
    "math.exp(10)"
   ]
  },
  {
   "cell_type": "code",
   "execution_count": 46,
   "id": "666f1dc3-5f75-440c-996c-6e0bc85abea8",
   "metadata": {},
   "outputs": [
    {
     "data": {
      "text/plain": [
       "2.718281828459045"
      ]
     },
     "execution_count": 46,
     "metadata": {},
     "output_type": "execute_result"
    }
   ],
   "source": [
    "math.exp(a)"
   ]
  },
  {
   "cell_type": "code",
   "execution_count": 48,
   "id": "5370e229-d8df-451c-ad8e-3651d43aaf25",
   "metadata": {},
   "outputs": [
    {
     "data": {
      "text/plain": [
       "0.0"
      ]
     },
     "execution_count": 48,
     "metadata": {},
     "output_type": "execute_result"
    }
   ],
   "source": [
    "import math as mt\n",
    "mt.log(c)"
   ]
  },
  {
   "cell_type": "markdown",
   "id": "5fee6be4-df33-431a-82e9-515bba07037e",
   "metadata": {},
   "source": [
    "## Listas"
   ]
  },
  {
   "cell_type": "code",
   "execution_count": 50,
   "id": "334357d5-1b0f-4244-a5b2-3c924d751e7c",
   "metadata": {},
   "outputs": [
    {
     "name": "stdout",
     "output_type": "stream",
     "text": [
      "(1, 2, 3)\n"
     ]
    }
   ],
   "source": [
    "myFirstList = (1,2,3)\n",
    "print(myFirstList)"
   ]
  },
  {
   "cell_type": "code",
   "execution_count": 53,
   "id": "363a9c9c-68d8-4565-89c6-d10f2b82ad25",
   "metadata": {},
   "outputs": [
    {
     "name": "stdout",
     "output_type": "stream",
     "text": [
      "1\n"
     ]
    }
   ],
   "source": [
    "# Acessando valores da lista pelo index (para acessar a lista sempre colchete)\n",
    "print(myFirstList[0])\n"
   ]
  },
  {
   "cell_type": "code",
   "execution_count": 57,
   "id": "1bb9d1cf-e539-4b5e-abcc-ca3ee811c518",
   "metadata": {},
   "outputs": [
    {
     "name": "stdout",
     "output_type": "stream",
     "text": [
      "[1, 1, 'c']\n"
     ]
    }
   ],
   "source": [
    "mySecList = [1,a,\"c\"]\n",
    "print(mySecList)"
   ]
  },
  {
   "cell_type": "code",
   "execution_count": 58,
   "id": "f6bd7fbd-ee50-4b3d-8247-cf273cb79ddd",
   "metadata": {},
   "outputs": [
    {
     "data": {
      "text/plain": [
       "list"
      ]
     },
     "execution_count": 58,
     "metadata": {},
     "output_type": "execute_result"
    }
   ],
   "source": [
    "type(mySecList)"
   ]
  },
  {
   "cell_type": "markdown",
   "id": "376f249a-76d6-4966-b7d3-467666bf850c",
   "metadata": {},
   "source": [
    "# CAminhos = Path"
   ]
  },
  {
   "cell_type": "code",
   "execution_count": 61,
   "id": "f1d79a13-52c9-473e-a109-12d2f0dd6d36",
   "metadata": {},
   "outputs": [
    {
     "name": "stdout",
     "output_type": "stream",
     "text": [
      "C:\\Users\\conta\\Documents\\ENS\\ENS410064\n"
     ]
    }
   ],
   "source": [
    "path = r\"C:\\Users\\conta\\Documents\\ENS\\ENS410064\"\n",
    "print(path)"
   ]
  },
  {
   "cell_type": "code",
   "execution_count": 62,
   "id": "9b746985-61f0-47af-9cd9-c878779c7332",
   "metadata": {},
   "outputs": [],
   "source": [
    "path = \"C:/Users/conta/Documents/ENS/ENS410064\""
   ]
  },
  {
   "cell_type": "code",
   "execution_count": 64,
   "id": "d761ffe8-0832-480e-a0ee-96822c66a199",
   "metadata": {},
   "outputs": [
    {
     "data": {
      "text/plain": [
       "'.git'"
      ]
     },
     "execution_count": 64,
     "metadata": {},
     "output_type": "execute_result"
    }
   ],
   "source": [
    "import os\n",
    "\n",
    "#listar arquivos na pasta \n",
    "os.listdir(path)\n",
    "os.listdir(path)[0]"
   ]
  },
  {
   "cell_type": "code",
   "execution_count": 65,
   "id": "ec073c28-2f04-4cc7-b994-93d633d94c90",
   "metadata": {},
   "outputs": [
    {
     "data": {
      "text/plain": [
       "'C:/Users/conta/Documents/ENS/ENS410064/.git'"
      ]
     },
     "execution_count": 65,
     "metadata": {},
     "output_type": "execute_result"
    }
   ],
   "source": [
    "# Contatenando caminhos \n",
    "path+\"/\"+(os.listdir(path)[0])"
   ]
  },
  {
   "cell_type": "code",
   "execution_count": 67,
   "id": "29634927-225f-4113-affb-46839ce96e03",
   "metadata": {},
   "outputs": [
    {
     "data": {
      "text/plain": [
       "['COMMIT_EDITMSG',\n",
       " 'config',\n",
       " 'description',\n",
       " 'FETCH_HEAD',\n",
       " 'HEAD',\n",
       " 'hooks',\n",
       " 'index',\n",
       " 'info',\n",
       " 'logs',\n",
       " 'objects',\n",
       " 'packed-refs',\n",
       " 'refs']"
      ]
     },
     "execution_count": 67,
     "metadata": {},
     "output_type": "execute_result"
    }
   ],
   "source": [
    "#Listando caminhos concatenados\n",
    "os.listdir(path+\"/\"+os.listdir(path)[0])"
   ]
  },
  {
   "cell_type": "code",
   "execution_count": 70,
   "id": "555b66e0-2815-4c95-bee1-2e2ee1e82c63",
   "metadata": {},
   "outputs": [
    {
     "data": {
      "text/plain": [
       "'C:\\\\Users\\\\conta\\\\Documents\\\\ENS\\\\ENS410064\\\\pyenv\\\\Scripts'"
      ]
     },
     "execution_count": 70,
     "metadata": {},
     "output_type": "execute_result"
    }
   ],
   "source": [
    "#Diretoria que estou trabalhando\n",
    "os.getcwd()"
   ]
  },
  {
   "cell_type": "code",
   "execution_count": 75,
   "id": "a81e9f71-65c8-475b-b202-5542ce74151f",
   "metadata": {},
   "outputs": [
    {
     "name": "stdout",
     "output_type": "stream",
     "text": [
      "criando diretorio\n"
     ]
    }
   ],
   "source": [
    "# Criando um diretório\n",
    "new_path = os.getcwd()+'/test'\n",
    "\n",
    "if os.path.isdir(new_path):\n",
    "    print('diretorio ja existe')\n",
    "else:\n",
    "    print('criando diretorio')"
   ]
  },
  {
   "cell_type": "markdown",
   "id": "58c808db-1610-4c71-99b9-ee624dc06e29",
   "metadata": {},
   "source": [
    "## Numpyarrays and pandas dataframe "
   ]
  },
  {
   "cell_type": "code",
   "execution_count": 79,
   "id": "ad68df2f-b474-434a-9d67-6e7ecf49d9fb",
   "metadata": {},
   "outputs": [
    {
     "data": {
      "text/plain": [
       "numpy.ndarray"
      ]
     },
     "execution_count": 79,
     "metadata": {},
     "output_type": "execute_result"
    }
   ],
   "source": [
    "import numpy as np\n",
    "\n",
    "n = np.array(0)\n",
    "type(n)"
   ]
  },
  {
   "cell_type": "code",
   "execution_count": 81,
   "id": "1adaf12f-89d7-4f8b-be29-e806e884e3bb",
   "metadata": {},
   "outputs": [
    {
     "name": "stdout",
     "output_type": "stream",
     "text": [
      "[ 1  2  3 10 20 50]\n"
     ]
    }
   ],
   "source": [
    "myThirdList=[1,2,3,10,20,50]\n",
    "n = np.array(myThirdList)\n",
    "print(n)"
   ]
  },
  {
   "cell_type": "code",
   "execution_count": 86,
   "id": "19e4148c-dd2f-477d-8bcd-deeecdcc4475",
   "metadata": {},
   "outputs": [
    {
     "name": "stdout",
     "output_type": "stream",
     "text": [
      "[[0.33812429 0.92984746 0.65171546 0.45164624 0.81801622 0.10375055\n",
      "  0.08903499 0.15384306 0.97238414 0.30604859]\n",
      " [0.621416   0.89501959 0.53736899 0.99915578 0.51854226 0.98118213\n",
      "  0.5182314  0.67937856 0.56972278 0.08424617]\n",
      " [0.32365432 0.36079508 0.08641734 0.25401039 0.41465071 0.86572335\n",
      "  0.96084788 0.51277893 0.47536894 0.47649941]\n",
      " [0.22658651 0.70032935 0.12438125 0.47743484 0.79933435 0.2555344\n",
      "  0.35848172 0.73408606 0.27228133 0.22211269]\n",
      " [0.42967479 0.79661391 0.07071214 0.26512517 0.57051708 0.55632167\n",
      "  0.86991647 0.78320701 0.22325955 0.31736891]\n",
      " [0.55819726 0.6321894  0.80384467 0.01316359 0.6519657  0.38325554\n",
      "  0.62178274 0.9197566  0.40250964 0.56182488]\n",
      " [0.06736721 0.91696854 0.49899193 0.52374836 0.43924324 0.05063533\n",
      "  0.20285404 0.97367041 0.79151125 0.36217582]\n",
      " [0.86259172 0.33378876 0.04374818 0.01976915 0.71782305 0.24561884\n",
      "  0.6759931  0.31505271 0.33181412 0.37049227]\n",
      " [0.21368532 0.21846434 0.050425   0.67442496 0.33312831 0.14790387\n",
      "  0.19861281 0.82539761 0.9454298  0.74383699]\n",
      " [0.98399817 0.45477069 0.59064257 0.35785437 0.17135219 0.13697393\n",
      "  0.23827144 0.06277301 0.66858636 0.66033328]]\n",
      "(10, 10)\n"
     ]
    }
   ],
   "source": [
    "# Criando uma matriz de 10x10 de numeros entre 0 e 1\n",
    "n = np.random.rand(10,10)\n",
    "print(n)\n",
    "# Dimensões da matriz \n",
    "print(n.shape)"
   ]
  },
  {
   "cell_type": "code",
   "execution_count": 84,
   "id": "9468e1ad-f3d4-401e-a5a6-966504405cfe",
   "metadata": {},
   "outputs": [
    {
     "name": "stdout",
     "output_type": "stream",
     "text": [
      "(10, 10)\n"
     ]
    }
   ],
   "source": [
    "print(n.shape)"
   ]
  },
  {
   "cell_type": "code",
   "execution_count": 89,
   "id": "1318ef9a-817f-4865-92b5-c1365e6d8d53",
   "metadata": {},
   "outputs": [
    {
     "data": {
      "text/plain": [
       "array([0.33812429, 0.92984746, 0.65171546, 0.45164624, 0.81801622,\n",
       "       0.10375055, 0.08903499, 0.15384306, 0.97238414, 0.30604859])"
      ]
     },
     "execution_count": 89,
     "metadata": {},
     "output_type": "execute_result"
    }
   ],
   "source": [
    "# Acessando valores da matriz \n",
    "\n",
    "n[0,:]"
   ]
  },
  {
   "cell_type": "code",
   "execution_count": 90,
   "id": "e55927e7-5bfe-4f95-9fc6-8c81e1bf3f3c",
   "metadata": {},
   "outputs": [
    {
     "data": {
      "text/plain": [
       "array([0.33812429, 0.621416  , 0.32365432, 0.22658651, 0.42967479,\n",
       "       0.55819726, 0.06736721, 0.86259172, 0.21368532, 0.98399817])"
      ]
     },
     "execution_count": 90,
     "metadata": {},
     "output_type": "execute_result"
    }
   ],
   "source": [
    "n[:,0]"
   ]
  },
  {
   "cell_type": "code",
   "execution_count": 91,
   "id": "d94e0915-4d4f-4698-a6c2-6a12bb3d1c7e",
   "metadata": {},
   "outputs": [
    {
     "data": {
      "text/plain": [
       "array([[0.92984746, 0.65171546, 0.45164624, 0.81801622],\n",
       "       [0.89501959, 0.53736899, 0.99915578, 0.51854226],\n",
       "       [0.36079508, 0.08641734, 0.25401039, 0.41465071],\n",
       "       [0.70032935, 0.12438125, 0.47743484, 0.79933435],\n",
       "       [0.79661391, 0.07071214, 0.26512517, 0.57051708],\n",
       "       [0.6321894 , 0.80384467, 0.01316359, 0.6519657 ],\n",
       "       [0.91696854, 0.49899193, 0.52374836, 0.43924324],\n",
       "       [0.33378876, 0.04374818, 0.01976915, 0.71782305],\n",
       "       [0.21846434, 0.050425  , 0.67442496, 0.33312831],\n",
       "       [0.45477069, 0.59064257, 0.35785437, 0.17135219]])"
      ]
     },
     "execution_count": 91,
     "metadata": {},
     "output_type": "execute_result"
    }
   ],
   "source": [
    "n[:,1:5]"
   ]
  },
  {
   "cell_type": "code",
   "execution_count": 93,
   "id": "5ea36874-3492-4a51-8716-1c829a71b3e4",
   "metadata": {},
   "outputs": [
    {
     "data": {
      "text/plain": [
       "0.8950195935504572"
      ]
     },
     "execution_count": 93,
     "metadata": {},
     "output_type": "execute_result"
    }
   ],
   "source": [
    "# Linha e coluna \n",
    "n[1,1]"
   ]
  },
  {
   "cell_type": "code",
   "execution_count": 94,
   "id": "8b6a52e0-890d-4652-8bb9-4249e9256da2",
   "metadata": {},
   "outputs": [
    {
     "data": {
      "text/plain": [
       "array([0.33812429, 0.92984746, 0.65171546, 0.45164624, 0.81801622,\n",
       "       0.10375055, 0.08903499, 0.15384306, 0.97238414, 0.30604859])"
      ]
     },
     "execution_count": 94,
     "metadata": {},
     "output_type": "execute_result"
    }
   ],
   "source": [
    "n[0,:]"
   ]
  },
  {
   "cell_type": "code",
   "execution_count": 95,
   "id": "ace1fa89-1b64-4ba6-bbf6-ad942571a11a",
   "metadata": {},
   "outputs": [
    {
     "name": "stdout",
     "output_type": "stream",
     "text": [
      "[[-1.08434173e+00 -7.27347311e-02 -4.28147227e-01 -7.94856071e-01\n",
      "  -2.00873116e-01 -2.26576584e+00 -2.41872579e+00 -1.87182226e+00\n",
      "  -2.80043462e-02 -1.18401141e+00]\n",
      " [-4.75754537e-01 -1.10909669e-01 -6.21070280e-01 -8.44574376e-04\n",
      "  -6.56733749e-01 -1.89971805e-02 -6.57333427e-01 -3.86576785e-01\n",
      "  -5.62605386e-01 -2.47401222e+00]\n",
      " [-1.12807924e+00 -1.01944512e+00 -2.44856689e+00 -1.37038012e+00\n",
      "  -8.80318770e-01 -1.44189874e-01 -3.99391766e-02 -6.67910468e-01\n",
      "  -7.43664053e-01 -7.41288789e-01]\n",
      " [-1.48462848e+00 -3.56204554e-01 -2.08440387e+00 -7.39327595e-01\n",
      "  -2.23975956e-01 -1.36439824e+00 -1.02587762e+00 -3.09129012e-01\n",
      "  -1.30091944e+00 -1.50457043e+00]\n",
      " [-8.44726666e-01 -2.27385152e-01 -2.64913803e+00 -1.32755324e+00\n",
      "  -5.61212172e-01 -5.86408614e-01 -1.39358078e-01 -2.44358232e-01\n",
      "  -1.49942026e+00 -1.14769042e+00]\n",
      " [-5.83042875e-01 -4.58566244e-01 -2.18349222e-01 -4.33030044e+00\n",
      "  -4.27763321e-01 -9.59053317e-01 -4.75164535e-01 -8.36462092e-02\n",
      "  -9.10036228e-01 -5.76565072e-01]\n",
      " [-2.69759682e+00 -8.66821168e-02 -6.95165363e-01 -6.46743943e-01\n",
      "  -8.22701933e-01 -2.98310579e+00 -1.59526859e+00 -2.66824178e-02\n",
      "  -2.33811189e-01 -1.01562548e+00]\n",
      " [-1.47813794e-01 -1.09724695e+00 -3.12930519e+00 -3.92363258e+00\n",
      "  -3.31532182e-01 -1.40397436e+00 -3.91572408e-01 -1.15501532e+00\n",
      "  -1.10318036e+00 -9.92922685e-01]\n",
      " [-1.54325080e+00 -1.52113248e+00 -2.98726814e+00 -3.93894862e-01\n",
      "  -1.09922754e+00 -1.91119277e+00 -1.61639805e+00 -1.91890052e-01\n",
      "  -5.61156414e-02 -2.95933363e-01]\n",
      " [-1.61312402e-02 -7.87961955e-01 -5.26544241e-01 -1.02762917e+00\n",
      "  -1.76403423e+00 -1.98796463e+00 -1.43434473e+00 -2.76823014e+00\n",
      "  -4.02589707e-01 -4.15010606e-01]]\n"
     ]
    }
   ],
   "source": [
    "an = np.log(n)\n",
    "print(an)"
   ]
  },
  {
   "cell_type": "code",
   "execution_count": null,
   "id": "11d0ac0b-a1bc-4802-8c89-7cbe3e55e468",
   "metadata": {},
   "outputs": [],
   "source": []
  }
 ],
 "metadata": {
  "kernelspec": {
   "display_name": "Python 3 (ipykernel)",
   "language": "python",
   "name": "python3"
  },
  "language_info": {
   "codemirror_mode": {
    "name": "ipython",
    "version": 3
   },
   "file_extension": ".py",
   "mimetype": "text/x-python",
   "name": "python",
   "nbconvert_exporter": "python",
   "pygments_lexer": "ipython3",
   "version": "3.11.5"
  }
 },
 "nbformat": 4,
 "nbformat_minor": 5
}
